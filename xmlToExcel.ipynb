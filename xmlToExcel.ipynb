{
 "cells": [
  {
   "cell_type": "code",
   "execution_count": 1,
   "metadata": {},
   "outputs": [],
   "source": [
    "import pandas as pd\n",
    "import xml.etree.ElementTree as ET\n",
    "\n",
    "xml = 'xml.xml'\n",
    "\n",
    "class xmlConverter:\n",
    "    def __init__(self, xml):\n",
    "        self.tree = ET.parse(xml)\n",
    "        self.root = self.tree.getroot()\n",
    "\n",
    "    def iterate(self, i, tags):\n",
    "        \"\"\"recursive function to find varying depths of the xml tags\"\"\"\n",
    "        for n in i:\n",
    "            try:\n",
    "                text = n.text\n",
    "                tag = n.tag.replace(self.r, '') if tags == '' else tags + ' ' + n.tag.replace(self.r, '')\n",
    "                \n",
    "                if not bool(n):\n",
    "                    self.values[tag] = text\n",
    "                else:\n",
    "                    self.iterate(n, tag)\n",
    "            except Exception as e:\n",
    "                print(e)\n",
    "\n",
    "    def convert(self, level=0):\n",
    "        \"\"\"Instantiates an xml converted dataframe.\n",
    "        \n",
    "        Inputs:\n",
    "            level (0 or 1) - This determines at which level of the xml file\n",
    "            from which to collect data. A level of 1 means that data immediately\n",
    "            underneath the root will be ignored.\n",
    "\n",
    "        call attribute .excel to access the dataframe\n",
    "        \"\"\"\n",
    "        \n",
    "        root = self.root\n",
    "        r = str(root)\n",
    "        self.r = r[r.index('{'): r.index('}') + 1]\n",
    "        data = []\n",
    "\n",
    "        for member in root:\n",
    "            self.values = {}\n",
    "            if level == 1:\n",
    "                for a in member:\n",
    "                    self.iterate(a, a.tag.replace(self.r, ''))\n",
    "            elif level == 0:\n",
    "                self.iterate(member, '')\n",
    "            data.append(self.values)\n",
    "\n",
    "        self.excel = pd.DataFrame(data)\n",
    "        \n",
    "        "
   ]
  },
  {
   "cell_type": "code",
   "execution_count": 4,
   "metadata": {},
   "outputs": [],
   "source": [
    "converter = xmlConverter(xml)\n",
    "converter.convert()\n",
    "converter.excel"
   ]
  },
  {
   "cell_type": "code",
   "execution_count": null,
   "metadata": {},
   "outputs": [],
   "source": []
  }
 ],
 "metadata": {
  "kernelspec": {
   "display_name": "Python 3",
   "language": "python",
   "name": "python3"
  },
  "language_info": {
   "codemirror_mode": {
    "name": "ipython",
    "version": 3
   },
   "file_extension": ".py",
   "mimetype": "text/x-python",
   "name": "python",
   "nbconvert_exporter": "python",
   "pygments_lexer": "ipython3",
   "version": "3.9.0"
  }
 },
 "nbformat": 4,
 "nbformat_minor": 4
}
