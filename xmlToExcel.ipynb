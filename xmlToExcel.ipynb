{
 "cells": [
  {
   "cell_type": "code",
   "execution_count": 2,
   "metadata": {},
   "outputs": [],
   "source": [
    "import pandas as pd\n",
    "import xml.etree.ElementTree as ET\n",
    "\n",
    "xml = 'xml.xml'\n",
    "\n",
    "class xmlToExcel:  \n",
    "    def iterate(self, i, tags):\n",
    "        for n in i:\n",
    "            try:      \n",
    "                text = n.text\n",
    "                tag = tags + ' ' + n.tag.replace(self.r,'')\n",
    "                if not bool(n):\n",
    "                    self.values[tag] = text\n",
    "                else:\n",
    "                    self.iterate(n, tag)\n",
    "            except Exception as e:\n",
    "                print(e)\n",
    "\n",
    "    def convert(self, xml):\n",
    "        \"\"\"Insert a path name to instantiate your xml converted dataframe\"\"\"\n",
    "        tree = ET.parse(xml)\n",
    "        root = tree.getroot()\n",
    "        r = str(root)\n",
    "        self.r = r[r.index('{'): r.index('}')+1]\n",
    "        data = []\n",
    "        \n",
    "        for member in root:\n",
    "            self.values = {}\n",
    "            for a in member:\n",
    "                self.iterate(a, a.tag.replace(self.r,''))           \n",
    "            data.append(self.values)\n",
    "\n",
    "        self.excel = pd.DataFrame(data)\n",
    "        return self.excel\n",
    "    \n",
    "    def export(self, name='OUPUT'):\n",
    "        \"\"\"Insert a path name to export to a .xlsx file\"\"\"\n",
    "        self.excel.to_excel(name+'.xlsx')\n",
    "        \n",
    "        "
   ]
  },
  {
   "cell_type": "code",
   "execution_count": null,
   "metadata": {},
   "outputs": [],
   "source": [
    "converter = xmlToExcel()\n",
    "converter.convert(xml)\n",
    "converter.export()"
   ]
  }
 ],
 "metadata": {
  "kernelspec": {
   "display_name": "Python 3",
   "language": "python",
   "name": "python3"
  },
  "language_info": {
   "codemirror_mode": {
    "name": "ipython",
    "version": 3
   },
   "file_extension": ".py",
   "mimetype": "text/x-python",
   "name": "python",
   "nbconvert_exporter": "python",
   "pygments_lexer": "ipython3",
   "version": "3.9.0"
  }
 },
 "nbformat": 4,
 "nbformat_minor": 4
}
